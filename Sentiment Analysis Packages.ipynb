{
 "cells": [
  {
   "cell_type": "code",
   "execution_count": 1,
   "metadata": {},
   "outputs": [],
   "source": [
    "from textblob import TextBlob\n",
    "from vaderSentiment.vaderSentiment import SentimentIntensityAnalyzer\n",
    "import spacy\n",
    "from spacytextblob.spacytextblob import SpacyTextBlob"
   ]
  },
  {
   "cell_type": "code",
   "execution_count": 2,
   "metadata": {},
   "outputs": [
    {
     "data": {
      "text/plain": [
       "<spacytextblob.spacytextblob.SpacyTextBlob at 0x31c6ace90>"
      ]
     },
     "execution_count": 2,
     "metadata": {},
     "output_type": "execute_result"
    }
   ],
   "source": [
    "# Initialize the VADER sentiment analyzer\n",
    "vader_analyzer = SentimentIntensityAnalyzer()\n",
    "\n",
    "# Initialize spaCy and add the TextBlob sentiment component\n",
    "nlp = spacy.load(\"en_core_web_sm\")\n",
    "nlp.add_pipe('spacytextblob')"
   ]
  },
  {
   "cell_type": "code",
   "execution_count": 3,
   "metadata": {},
   "outputs": [],
   "source": [
    "# Example sentences for sentiment analysis\n",
    "sentences = [\n",
    "    \"The stock market is doing great!\",\n",
    "    \"I am worried about the economic downturn.\",\n",
    "    \"Earnings reports have been mixed.\",\n",
    "    \"The new product launch was a huge success.\",\n",
    "    \"Investors are skeptical about the future prospects.\"\n",
    "    \"Oh great, the stock market is up again. I guess that means everything is perfect in the world and there are absolutely no underlying issues at all!\"\n",
    "]"
   ]
  },
  {
   "cell_type": "code",
   "execution_count": 4,
   "metadata": {},
   "outputs": [
    {
     "name": "stdout",
     "output_type": "stream",
     "text": [
      "TextBlob Sentiment Scores: [1.0, 0.2, 0.0, 0.2787878787878788, 0.23500000000000001]\n"
     ]
    }
   ],
   "source": [
    "# Function to analyze sentiment using TextBlob\n",
    "def textblob_sentiment_analysis(sentence):\n",
    "    analysis = TextBlob(sentence)\n",
    "    return analysis.sentiment.polarity\n",
    "\n",
    "textblob_sentiments = [textblob_sentiment_analysis(sentence) for sentence in sentences]\n",
    "print(\"TextBlob Sentiment Scores:\", textblob_sentiments)"
   ]
  },
  {
   "cell_type": "code",
   "execution_count": 5,
   "metadata": {},
   "outputs": [
    {
     "name": "stdout",
     "output_type": "stream",
     "text": [
      "VADER Sentiment Scores: [0.6588, -0.296, 0.0, 0.7184, 0.6484]\n"
     ]
    }
   ],
   "source": [
    "# Function to analyze sentiment using VADER\n",
    "def vader_sentiment_analysis(sentence):\n",
    "    return vader_analyzer.polarity_scores(sentence)['compound']\n",
    "\n",
    "vader_sentiments = [vader_sentiment_analysis(sentence) for sentence in sentences]\n",
    "print(\"VADER Sentiment Scores:\", vader_sentiments)"
   ]
  },
  {
   "cell_type": "code",
   "execution_count": 6,
   "metadata": {},
   "outputs": [
    {
     "name": "stdout",
     "output_type": "stream",
     "text": [
      "spaCy Sentiment Scores: [1.0, 0.2, 0.0, 0.2787878787878788, 0.23500000000000001]\n"
     ]
    }
   ],
   "source": [
    "# Function to analyze sentiment using spaCy with TextBlob\n",
    "def spacy_sentiment_analysis(sentence):\n",
    "    doc = nlp(sentence)\n",
    "    return doc._.polarity\n",
    "\n",
    "spacy_sentiments = [spacy_sentiment_analysis(sentence) for sentence in sentences]\n",
    "print(\"spaCy Sentiment Scores:\", spacy_sentiments)"
   ]
  }
 ],
 "metadata": {
  "kernelspec": {
   "display_name": "Python 3",
   "language": "python",
   "name": "python3"
  },
  "language_info": {
   "codemirror_mode": {
    "name": "ipython",
    "version": 3
   },
   "file_extension": ".py",
   "mimetype": "text/x-python",
   "name": "python",
   "nbconvert_exporter": "python",
   "pygments_lexer": "ipython3",
   "version": "3.12.1"
  }
 },
 "nbformat": 4,
 "nbformat_minor": 2
}
